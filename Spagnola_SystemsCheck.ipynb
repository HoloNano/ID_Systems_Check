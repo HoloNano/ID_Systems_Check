{
 "cells": [
  {
   "cell_type": "markdown",
   "id": "50f0f22d-9a0a-4483-a02e-c9016c1fa30e",
   "metadata": {},
   "source": []
  },
  {
   "cell_type": "markdown",
   "id": "35b2f65e-32a3-4e38-aa03-8368c87abf21",
   "metadata": {},
   "source": [
    "# Yay! I did a thing!"
   ]
  },
  {
   "cell_type": "markdown",
   "id": "c6785179-363a-4752-8164-ac2386acb06b",
   "metadata": {},
   "source": [
    "## Testing out heading 2"
   ]
  },
  {
   "cell_type": "markdown",
   "id": "81ad2e07-4273-42e4-92ca-dc5c628070d1",
   "metadata": {},
   "source": [
    "**Is This Bold?**"
   ]
  },
  {
   "cell_type": "markdown",
   "id": "ba5d6793-d717-4fae-aac2-37786aa5d7cc",
   "metadata": {},
   "source": [
    "*Hasta la pasta*"
   ]
  },
  {
   "cell_type": "markdown",
   "id": "75d7e489-45c0-47a7-80d9-61610a918726",
   "metadata": {},
   "source": [
    "![image](https://media.tenor.com/lCKwsD2OW1kAAAAi/happy-cat-happy-happy-cat.gif)"
   ]
  },
  {
   "cell_type": "markdown",
   "id": "d78f93e8-00e2-448f-83b5-86a71f8a88cf",
   "metadata": {},
   "source": [
    "# What I hope to get out of this class\n",
    "\n",
    "* Coding chops in Python\n",
    "* Better understanding of interactive data\n",
    "* Feeling more confident looking at weird datasets and figuring them out"
   ]
  },
  {
   "cell_type": "code",
   "execution_count": 2,
   "id": "f68c3a74-f99d-4e59-b265-7fd8ecaa657d",
   "metadata": {},
   "outputs": [],
   "source": [
    "x = 5"
   ]
  },
  {
   "cell_type": "code",
   "execution_count": 3,
   "id": "dad5e2dc-14fb-485a-89a3-bc5e5bedba5b",
   "metadata": {},
   "outputs": [
    {
     "data": {
      "text/plain": [
       "5"
      ]
     },
     "execution_count": 3,
     "metadata": {},
     "output_type": "execute_result"
    }
   ],
   "source": [
    "x"
   ]
  },
  {
   "cell_type": "code",
   "execution_count": 3,
   "id": "ad8862c2-6e75-4f7b-8d3e-00989282b5f0",
   "metadata": {},
   "outputs": [
    {
     "name": "stdout",
     "output_type": "stream",
     "text": [
      "5\n"
     ]
    }
   ],
   "source": [
    "print(x)"
   ]
  },
  {
   "cell_type": "code",
   "execution_count": 5,
   "id": "cd160d38-4224-4db9-aeda-d6f85a4915ab",
   "metadata": {},
   "outputs": [
    {
     "name": "stdout",
     "output_type": "stream",
     "text": [
      "1\n",
      "2\n",
      "3\n",
      "4\n",
      "5\n"
     ]
    }
   ],
   "source": [
    "for i in [1,2,3,4]:\n",
    "    print(i)\n",
    "\n",
    "for i in [x]:\n",
    "    print(i)"
   ]
  },
  {
   "cell_type": "code",
   "execution_count": 4,
   "id": "f4c70860-cf67-4b86-bc99-ac2461883a57",
   "metadata": {},
   "outputs": [],
   "source": [
    "def say_hello(x):\n",
    "    print(\"hello \" + str(x))"
   ]
  },
  {
   "cell_type": "code",
   "execution_count": 5,
   "id": "b92cd918-be05-4fed-935e-a874d613fbcf",
   "metadata": {},
   "outputs": [
    {
     "name": "stdout",
     "output_type": "stream",
     "text": [
      "hello Anna\n"
     ]
    }
   ],
   "source": [
    "say_hello(\"Anna\")"
   ]
  },
  {
   "cell_type": "code",
   "execution_count": 8,
   "id": "1e767e4f-764d-4843-b207-cbff2b624270",
   "metadata": {},
   "outputs": [],
   "source": [
    "def return_hello(x):\n",
    "    y = \"hello \" + x\n",
    "    return y"
   ]
  },
  {
   "cell_type": "code",
   "execution_count": 9,
   "id": "a89c13e0-67e3-4204-bb62-78a112444e6c",
   "metadata": {},
   "outputs": [
    {
     "data": {
      "text/plain": [
       "'hello Anna'"
      ]
     },
     "execution_count": 9,
     "metadata": {},
     "output_type": "execute_result"
    }
   ],
   "source": [
    "return_hello(\"Anna\")"
   ]
  },
  {
   "cell_type": "code",
   "execution_count": null,
   "id": "6f903dec-c95b-4967-8358-fe91d3f42c4d",
   "metadata": {},
   "outputs": [],
   "source": []
  }
 ],
 "metadata": {
  "kernelspec": {
   "display_name": "Python 3 (ipykernel)",
   "language": "python",
   "name": "python3"
  },
  "language_info": {
   "codemirror_mode": {
    "name": "ipython",
    "version": 3
   },
   "file_extension": ".py",
   "mimetype": "text/x-python",
   "name": "python",
   "nbconvert_exporter": "python",
   "pygments_lexer": "ipython3",
   "version": "3.12.1"
  }
 },
 "nbformat": 4,
 "nbformat_minor": 5
}
